{
 "cells": [
  {
   "cell_type": "code",
   "execution_count": 59,
   "metadata": {
    "collapsed": true
   },
   "outputs": [],
   "source": [
    "import json\n",
    "from datetime import datetime,timedelta\n",
    "from dateutil.relativedelta import relativedelta\n",
    "import os\n",
    "import numpy as np\n",
    "import matplotlib.pyplot as plt\n",
    "import pandas as pd\n",
    "from scipy.interpolate import interp1d\n",
    "from scipy.stats import pearsonr"
   ]
  },
  {
   "cell_type": "code",
   "execution_count": 66,
   "outputs": [
    {
     "name": "stdout",
     "output_type": "stream",
     "text": [
      "Acc  is done\n",
      "Cal  is done\n",
      "EDA  is done\n",
      "HR  is done\n",
      "Step  is done\n",
      "Temp  is done\n",
      "CGM  is done\n"
     ]
    }
   ],
   "source": [
    "def loadingDataReader(fileAddress,parameter):\n",
    "    try:\n",
    "        jsonFile = open(fileAddress, )\n",
    "        data = json.load(jsonFile)\n",
    "\n",
    "        dateList=[]\n",
    "        timeList=[]\n",
    "        valList=[]\n",
    "        for i in data:\n",
    "            for j in data[i]:\n",
    "                timeTemp=j[\"time\"]\n",
    "                timeTemp=int(timeTemp[0:2])*3600+int(timeTemp[3:5])*60+int(timeTemp[6:8])\n",
    "                timeList.append(timeTemp)\n",
    "\n",
    "                dateTemp=i\n",
    "                dateTemp = datetime.strptime(dateTemp, '%m-%d')+relativedelta(years=+121)\n",
    "                dateTemp=dateTemp.timetuple().tm_yday\n",
    "                dateList.append(dateTemp)\n",
    "                valList.append(float(j[\"value\"]))\n",
    "        jsonFile.close()\n",
    "    except:\n",
    "        print(\"An exception occurred\")\n",
    "\n",
    "    parList = []\n",
    "    for i in range (0,len(dateList)):\n",
    "        parList.append(parameter)\n",
    "\n",
    "    return dateList,timeList,valList,parList\n",
    "\n",
    "def loadingDataAux(fileAddress,parameter,allDate,allTime,allVal,allPar):\n",
    "    fileAddress=os.path.normpath(fileAddress)\n",
    "    [tempDate,tempTime,tempVal,tempPar]=loadingDataReader(fileAddress,parameter)\n",
    "    allDate.extend(tempDate)\n",
    "    allTime.extend(tempTime)\n",
    "    allVal.extend(tempVal)\n",
    "    allPar.extend(tempPar)\n",
    "    print(parameter,\" is done\")\n",
    "\n",
    "    return allDate,allTime,allVal,allPar\n",
    "\n",
    "def dataGapChecker(df):\n",
    "    df=df.sort_values(by=['Parameter', 'Date','Time'])\n",
    "    i = df[((df.Parameter == 'Temp') &( df.Value < 25))].index\n",
    "    df=df.drop(i)\n",
    "\n",
    "    gapList=[]\n",
    "    highResSensor=['Acc','EDA','HR','Temp']\n",
    "    for sensor in highResSensor:\n",
    "        newQuery=df[df['Parameter']==sensor]\n",
    "        for counter in range(0,len(newQuery)-1):\n",
    "            if newQuery.iloc[counter+1,0]==newQuery.iloc[counter+1,0]:\n",
    "                if newQuery.iloc[counter+1,1]-newQuery.iloc[counter,1]>120:\n",
    "                    gapList.append([newQuery.iloc[counter,0],newQuery.iloc[counter,1],newQuery.iloc[counter+1,1],newQuery.iloc[counter,3]])\n",
    "    appendedData=[]\n",
    "    for element in gapList:\n",
    "        duration= element[2]-element[1]\n",
    "        for counter in range(0,int(duration/120)):\n",
    "            appendedData.append([element[0],element[1]+(counter+1)*120,float('nan'),element[3]])\n",
    "\n",
    "    df = df.append(pd.DataFrame(appendedData,columns=['Date','Time','Value','Parameter']),ignore_index = True)\n",
    "    df=df.sort_values(by=['Parameter','Date','Time'])\n",
    "    return df\n",
    "\n",
    "def loadingData(addressPrefix):\n",
    "    if not os.path.exists(addressPrefix+'Result.csv'):\n",
    "        allDate=[]\n",
    "        allTime=[]\n",
    "        allVal=[]\n",
    "        allPar=[]\n",
    "\n",
    "        sensorList=[['intraday-ACC_E4.json','Acc'],['intraday-calories.json','Cal'],\n",
    "                    ['intraday-EDA_E4.json','EDA'],['intraday-HR_E4.json','HR'],\n",
    "                    ['intraday-steps.json','Step'],['intraday-TEMP_E4.json','Temp'],\n",
    "                    ['intraday-glucose.json','CGM']]\n",
    "\n",
    "        for element in sensorList:\n",
    "            fileAddress=addressPrefix+element[0]\n",
    "            allDate,allTime,allVal,allPar=loadingDataAux(fileAddress,element[1],allDate,allTime,allVal,allPar)\n",
    "\n",
    "        df = pd.DataFrame(list(zip(allDate,allTime,allVal,allPar)),columns =['Date','Time','Value','Parameter'])\n",
    "        df=dataGapChecker(df)\n",
    "        df.to_csv(addressPrefix+'Result.csv', header=True,index=False)\n",
    "    else:\n",
    "        df=pd.read_csv(addressPrefix+'Result.csv')\n",
    "    return df\n",
    "\n",
    "addressPrefix='C:/Users/sorush.omidvar/Google Drive/Documents/Educational/TAMU/Research/CGM Dataset/Bobak/'\n",
    "df=loadingData(addressPrefix)"
   ],
   "metadata": {
    "collapsed": false,
    "pycharm": {
     "name": "#%%\n"
    }
   }
  },
  {
   "cell_type": "code",
   "execution_count": 87,
   "outputs": [
    {
     "data": {
      "text/plain": "<Figure size 432x288 with 2 Axes>",
      "image/png": "[encoded data removed]"
     },
     "metadata": {
      "needs_background": "light"
     },
     "output_type": "display_data"
    },
    {
     "name": "stdout",
     "output_type": "stream",
     "text": [
      "<class 'numpy.ndarray'>\n"
     ]
    }
   ],
   "source": [
    "days=df['Date']\n",
    "days=days.values.tolist()\n",
    "days=np.asarray(days,dtype=int)\n",
    "\n",
    "days=set(days)\n",
    "days=list(days)\n",
    "days.sort()\n",
    "#The data is noisy in the first and last days, so we dismiss them\n",
    "days.remove(30)#first day and noisy\n",
    "days.remove(40)#Partial E4\n",
    "days.remove(41)#No E4\n",
    "days.remove(42)#the CGM reading is super low\n",
    "days.remove(43)#CGM is noisy\n",
    "days = days[0:days.index(44)] #end of study\n",
    "\n",
    "for day in days:\n",
    "    fig, ax1 = plt.subplots ()\n",
    "    ax2 = ax1.twinx ()\n",
    "\n",
    "    inquery=df[df['Date']==day]\n",
    "    inquery=inquery[inquery['Parameter']=='CGM']\n",
    "\n",
    "    x=inquery['Time']\n",
    "    x=x.values.tolist()\n",
    "    x=np.asarray(x,dtype=float)\n",
    "    y=inquery['Value']\n",
    "    y=y.values.tolist()\n",
    "    y=np.asarray(y,dtype=float)\n",
    "    # f = interp1d (x, y)\n",
    "    xnew=np.arange(0.5*3600,23.5*3600,1)\n",
    "    # cgmNew=f(xnew)\n",
    "\n",
    "    ax1.plot(x/3600,y,color='blue')\n",
    "    ax1.tick_params (axis='y', labelcolor='blue')\n",
    "\n",
    "    inquery=df[df['Date']==day]\n",
    "    inquery=inquery[inquery['Parameter']=='EDA']\n",
    "\n",
    "    x=inquery['Time']\n",
    "    x=x.values.tolist()\n",
    "    x=np.asarray(x,dtype=float)\n",
    "\n",
    "    y=inquery['Value']\n",
    "    y=y.values.tolist()\n",
    "    y=np.asarray(y,dtype=float)\n",
    "    f = interp1d (x, y,bounds_error=False, fill_value=0)\n",
    "    varNew=f(xnew)\n",
    "\n",
    "    ax2.plot(xnew/3600,varNew,color='red')\n",
    "    ax2.tick_params (axis='y', labelcolor='red')\n",
    "\n",
    "    ax1.set_ylabel('CGM')\n",
    "    ax1.set_xlabel('Day')\n",
    "    ax1.yaxis.label.set_color(\"blue\")\n",
    "\n",
    "    ax2.set_ylabel('Temp')\n",
    "    ax2.yaxis.label.set_color(\"red\")\n",
    "\n",
    "    # plt.savefig(addressPrefix+'figure.jpg')\n",
    "    plt.title(\"Day=\"+str(day))\n",
    "    plt.show()\n",
    "    varFlag=np.isnan(varNew)\n",
    "    xNewModified=[]\n",
    "\n",
    "\n",
    "    # corr, _ = pearsonr(cgmNew, varNew)\n",
    "    # print('Pearsons correlation: %.3f' % corr)\n",
    "\n",
    "    break"
   ],
   "metadata": {
    "collapsed": false,
    "pycharm": {
     "name": "#%%\n"
    }
   }
  }
 ],
 "metadata": {
  "kernelspec": {
   "display_name": "Python 3",
   "language": "python",
   "name": "python3"
  },
  "language_info": {
   "codemirror_mode": {
    "name": "ipython",
    "version": 2
   },
   "file_extension": ".py",
   "mimetype": "text/x-python",
   "name": "python",
   "nbconvert_exporter": "python",
   "pygments_lexer": "ipython2",
   "version": "2.7.6"
  }
 },
 "nbformat": 4,
 "nbformat_minor": 0
}